{
  "nbformat": 4,
  "nbformat_minor": 0,
  "metadata": {
    "kernelspec": {
      "display_name": "Python 3",
      "language": "python",
      "name": "python3"
    },
    "language_info": {
      "codemirror_mode": {
        "name": "ipython",
        "version": 3
      },
      "file_extension": ".py",
      "mimetype": "text/x-python",
      "name": "python",
      "nbconvert_exporter": "python",
      "pygments_lexer": "ipython3",
      "version": "3.7.0"
    },
    "colab": {
      "name": "main.ipynb",
      "provenance": [],
      "collapsed_sections": [],
      "include_colab_link": true
    }
  },
  "cells": [
    {
      "cell_type": "markdown",
      "metadata": {
        "id": "view-in-github",
        "colab_type": "text"
      },
      "source": [
        "<a href=\"https://colab.research.google.com/github/rshernandez10/lab-rss/blob/master/main.ipynb\" target=\"_parent\"><img src=\"https://colab.research.google.com/assets/colab-badge.svg\" alt=\"Open In Colab\"/></a>"
      ]
    },
    {
      "cell_type": "markdown",
      "metadata": {
        "id": "kqYfqZee6gdF",
        "colab_type": "text"
      },
      "source": [
        "# Working with RSS Feeds Lab\n",
        "\n",
        "Complete the following set of exercises to solidify your knowledge of parsing RSS feeds and extracting information from them."
      ]
    },
    {
      "cell_type": "code",
      "metadata": {
        "id": "q1fiT29f6gdG",
        "colab_type": "code",
        "colab": {}
      },
      "source": [
        "import feedparser"
      ],
      "execution_count": 0,
      "outputs": []
    },
    {
      "cell_type": "markdown",
      "metadata": {
        "id": "Eb6nhOaA6gdJ",
        "colab_type": "text"
      },
      "source": [
        "### 1. Use feedparser to parse the following RSS feed URL."
      ]
    },
    {
      "cell_type": "code",
      "metadata": {
        "id": "IIuJUyya6gdK",
        "colab_type": "code",
        "colab": {}
      },
      "source": [
        "url = 'http://feeds.feedburner.com/oreilly/radar/atom'"
      ],
      "execution_count": 0,
      "outputs": []
    },
    {
      "cell_type": "code",
      "metadata": {
        "id": "5b0I1zfm6gdM",
        "colab_type": "code",
        "colab": {}
      },
      "source": [
        "d = feedparser.parse(url)"
      ],
      "execution_count": 0,
      "outputs": []
    },
    {
      "cell_type": "markdown",
      "metadata": {
        "id": "dv-eGxlm6gdP",
        "colab_type": "text"
      },
      "source": [
        "### 2. Obtain a list of components (keys) that are available for this feed."
      ]
    },
    {
      "cell_type": "code",
      "metadata": {
        "id": "tbU7SaT86gdQ",
        "colab_type": "code",
        "outputId": "88e403ff-8235-4889-be67-11c72d2d0724",
        "colab": {
          "base_uri": "https://localhost:8080/",
          "height": 54
        }
      },
      "source": [
        "d.keys()"
      ],
      "execution_count": 0,
      "outputs": [
        {
          "output_type": "execute_result",
          "data": {
            "text/plain": [
              "dict_keys(['feed', 'entries', 'bozo', 'headers', 'etag', 'updated', 'updated_parsed', 'href', 'status', 'encoding', 'version', 'namespaces'])"
            ]
          },
          "metadata": {
            "tags": []
          },
          "execution_count": 8
        }
      ]
    },
    {
      "cell_type": "markdown",
      "metadata": {
        "id": "KZIuF8p-6gdS",
        "colab_type": "text"
      },
      "source": [
        "### 3. Obtain a list of components (keys) that are available for the *feed* component of this RSS feed."
      ]
    },
    {
      "cell_type": "code",
      "metadata": {
        "id": "SrkxpBgh6gdT",
        "colab_type": "code",
        "outputId": "fe343de0-23b6-4634-b3c6-e8057f2ed893",
        "colab": {
          "base_uri": "https://localhost:8080/",
          "height": 574
        }
      },
      "source": [
        "d.feed"
      ],
      "execution_count": 0,
      "outputs": [
        {
          "output_type": "execute_result",
          "data": {
            "text/plain": [
              "{'feedburner_emailserviceid': 'oreilly/radar/atom',\n",
              " 'feedburner_feedburnerhostname': 'https://feedburner.google.com',\n",
              " 'feedburner_info': {'uri': 'oreilly/radar/atom'},\n",
              " 'generator': 'https://wordpress.org/?v=5.3.3',\n",
              " 'generator_detail': {'name': 'https://wordpress.org/?v=5.3.3'},\n",
              " 'geo_lat': '38.393314',\n",
              " 'geo_long': '-122.836667',\n",
              " 'language': 'en-US',\n",
              " 'link': 'https://www.oreilly.com/radar',\n",
              " 'links': [{'href': 'https://www.oreilly.com/radar',\n",
              "   'rel': 'alternate',\n",
              "   'type': 'text/html'},\n",
              "  {'href': 'http://feeds.feedburner.com/oreilly/radar/atom',\n",
              "   'rel': 'self',\n",
              "   'type': 'application/rss+xml'},\n",
              "  {'href': 'http://pubsubhubbub.appspot.com/',\n",
              "   'rel': 'hub',\n",
              "   'type': 'text/html'}],\n",
              " 'subtitle': 'Now, next, and beyond: Tracking need-to-know trends at the intersection of business and technology',\n",
              " 'subtitle_detail': {'base': 'http://feeds.feedburner.com/oreilly/radar/atom',\n",
              "  'language': None,\n",
              "  'type': 'text/html',\n",
              "  'value': 'Now, next, and beyond: Tracking need-to-know trends at the intersection of business and technology'},\n",
              " 'sy_updatefrequency': '1',\n",
              " 'sy_updateperiod': 'hourly',\n",
              " 'title': 'Radar',\n",
              " 'title_detail': {'base': 'http://feeds.feedburner.com/oreilly/radar/atom',\n",
              "  'language': None,\n",
              "  'type': 'text/plain',\n",
              "  'value': 'Radar'},\n",
              " 'updated': 'Fri, 15 May 2020 11:22:50 +0000',\n",
              " 'updated_parsed': time.struct_time(tm_year=2020, tm_mon=5, tm_mday=15, tm_hour=11, tm_min=22, tm_sec=50, tm_wday=4, tm_yday=136, tm_isdst=0)}"
            ]
          },
          "metadata": {
            "tags": []
          },
          "execution_count": 9
        }
      ]
    },
    {
      "cell_type": "markdown",
      "metadata": {
        "id": "MKrg8SsO6gdW",
        "colab_type": "text"
      },
      "source": [
        "### 4. Extract and print the feed title, subtitle, author, and link."
      ]
    },
    {
      "cell_type": "code",
      "metadata": {
        "id": "JPgtPJLr6gdW",
        "colab_type": "code",
        "outputId": "15a81d51-810f-4217-9829-8681eded24c4",
        "colab": {
          "base_uri": "https://localhost:8080/",
          "height": 104
        }
      },
      "source": [
        "print(d.feed.title)\n",
        "print(d.feed.subtitle)\n",
        "print(d.entries[0].author)\n",
        "print(d.entries[0].link)"
      ],
      "execution_count": 0,
      "outputs": [
        {
          "output_type": "stream",
          "text": [
            "Radar\n",
            "Now, next, and beyond: Tracking need-to-know trends at the intersection of business and technology\n",
            "Nat Torkington\n",
            "http://feedproxy.google.com/~r/oreilly/radar/atom/~3/22fFY7896NU/\n"
          ],
          "name": "stdout"
        }
      ]
    },
    {
      "cell_type": "markdown",
      "metadata": {
        "id": "McnhRY7e6gdZ",
        "colab_type": "text"
      },
      "source": [
        "### 5. Count the number of entries that are contained in this RSS feed."
      ]
    },
    {
      "cell_type": "code",
      "metadata": {
        "id": "PaMxoEG76gda",
        "colab_type": "code",
        "outputId": "ca7cce82-d2c2-4b20-dce7-90cdd9cb5656",
        "colab": {
          "base_uri": "https://localhost:8080/",
          "height": 34
        }
      },
      "source": [
        "len(d.entries)"
      ],
      "execution_count": 0,
      "outputs": [
        {
          "output_type": "execute_result",
          "data": {
            "text/plain": [
              "60"
            ]
          },
          "metadata": {
            "tags": []
          },
          "execution_count": 37
        }
      ]
    },
    {
      "cell_type": "markdown",
      "metadata": {
        "id": "g1jUNfTQ6gdc",
        "colab_type": "text"
      },
      "source": [
        "### 6. Obtain a list of components (keys) available for an entry.\n",
        "\n",
        "*Hint: Remember to index first before requesting the keys*"
      ]
    },
    {
      "cell_type": "code",
      "metadata": {
        "id": "IAtKd61V6gdd",
        "colab_type": "code",
        "outputId": "50cd8bb1-4c0d-4e83-f137-2f06c385d991",
        "colab": {
          "base_uri": "https://localhost:8080/",
          "height": 336
        }
      },
      "source": [
        "list(d.entries[0].keys())"
      ],
      "execution_count": 0,
      "outputs": [
        {
          "output_type": "execute_result",
          "data": {
            "text/plain": [
              "['title',\n",
              " 'title_detail',\n",
              " 'links',\n",
              " 'link',\n",
              " 'comments',\n",
              " 'published',\n",
              " 'published_parsed',\n",
              " 'authors',\n",
              " 'author',\n",
              " 'author_detail',\n",
              " 'tags',\n",
              " 'id',\n",
              " 'guidislink',\n",
              " 'summary',\n",
              " 'summary_detail',\n",
              " 'content',\n",
              " 'wfw_commentrss',\n",
              " 'slash_comments',\n",
              " 'feedburner_origlink']"
            ]
          },
          "metadata": {
            "tags": []
          },
          "execution_count": 47
        }
      ]
    },
    {
      "cell_type": "markdown",
      "metadata": {
        "id": "n6L28-qp6gdf",
        "colab_type": "text"
      },
      "source": [
        "### 7. Extract a list of entry titles."
      ]
    },
    {
      "cell_type": "code",
      "metadata": {
        "id": "2RamBjIl6gdg",
        "colab_type": "code",
        "outputId": "c520159a-76cc-4c09-ffec-a747911a7e42",
        "colab": {
          "base_uri": "https://localhost:8080/",
          "height": 1000
        }
      },
      "source": [
        "for i in d.entries:\n",
        "  print(i.title)"
      ],
      "execution_count": 0,
      "outputs": [
        {
          "output_type": "stream",
          "text": [
            "Four short links: 15 May 2020\n",
            "Practical Skills for The AI Product Manager\n",
            "Four short links: 14 May 2020\n",
            "Four short links: 13 May 2020\n",
            "Four short links: 12 May 2020\n",
            "When models are everywhere\n",
            "Four short links: 11 May 2020\n",
            "Four short links: 8 May 2020\n",
            "Radar trends to watch: May 2020\n",
            "Four short links: 7 May 2020\n",
            "Four short links: 6 May 2020\n",
            "Four short links: 5 May 2020\n",
            "On COBOL\n",
            "Four short links: 4 May 2020\n",
            "Four short links: 1 May 2020\n",
            "Four short links: 30 April 2020\n",
            "Four short links: 29 April 2020\n",
            "Four short links: 28 April 2020\n",
            "Four short links: 27 April 2020\n",
            "Four short links: 24 April 2020\n",
            "Four short links: 23 April 2020\n",
            "How data privacy leader Apple found itself in a data ethics catastrophe\n",
            "Four short links: 22 April 2020\n",
            "Four short links: 21 April 2020\n",
            "Four short links: 20 April 2020\n",
            "Four short links: 17 April 2020\n",
            "Four short links: 16 April 2020\n",
            "Four short links: 15 April 2020\n",
            "Four short links: 14 April 2020\n",
            "Radar trends to watch: April 2020\n",
            "Four short links: 13 April 2020\n",
            "Four short links: 10 April 2020\n",
            "Four short links: 9 April 2020\n",
            "Four short links: 8 April 2020\n",
            "Four short links: 7 April 2020\n",
            "Governance and Discovery\n",
            "Four short links: 6 April 2020\n",
            "Four short links: 3 April 2020\n",
            "Four short links: 2 April 2020\n",
            "Four short links: 1 April 2020\n",
            "Four short links: 31 March 2020\n",
            "What you need to know about product management for AI\n",
            "The unreasonable importance of data preparation\n",
            "Four short links: 24 March 2020\n",
            "3 ways to confront modern business challenges\n",
            "An enterprise vision is your company’s North Star\n",
            "Leaders need to mobilize change-ready workforces\n",
            "Great leaders inspire innovation and creativity from within their workforces\n",
            "Strong leaders forge an intersection of knowledge and experience\n",
            "Four short links: 23 March 2020\n",
            "Four short links: 20 March 2020\n",
            "6 trends framing the state of AI and ML\n",
            "Four short links: 19 March 2020\n",
            "AI adoption in the enterprise 2020\n",
            "It’s an unprecedented crisis: 8 things to do right now\n",
            "Four short links: 18 March 2020\n",
            "Four short links: 17 March 2020\n",
            "Four short links: 16 March 2020\n",
            "Four short links: 13 March 2020\n",
            "Four short links: 12 March 2020\n"
          ],
          "name": "stdout"
        }
      ]
    },
    {
      "cell_type": "markdown",
      "metadata": {
        "id": "-jHDWtgl6gdi",
        "colab_type": "text"
      },
      "source": [
        "### 8. Calculate the percentage of \"Four short links\" entry titles."
      ]
    },
    {
      "cell_type": "code",
      "metadata": {
        "id": "Wmfmgpuo6gdi",
        "colab_type": "code",
        "outputId": "da2cb6d8-afc6-4a4f-e90c-965b233c97c3",
        "colab": {
          "base_uri": "https://localhost:8080/",
          "height": 128
        }
      },
      "source": [
        "#for i in d.entries:\n",
        "  print(i.title.startswith('Four')"
      ],
      "execution_count": 0,
      "outputs": [
        {
          "output_type": "error",
          "ename": "IndentationError",
          "evalue": "ignored",
          "traceback": [
            "\u001b[0;36m  File \u001b[0;32m\"<ipython-input-60-4ef7884be44a>\"\u001b[0;36m, line \u001b[0;32m2\u001b[0m\n\u001b[0;31m    print(i.title.startswith('Four')\u001b[0m\n\u001b[0m    ^\u001b[0m\n\u001b[0;31mIndentationError\u001b[0m\u001b[0;31m:\u001b[0m unexpected indent\n"
          ]
        }
      ]
    },
    {
      "cell_type": "markdown",
      "metadata": {
        "id": "9HFpZyXc6gdk",
        "colab_type": "text"
      },
      "source": [
        "### 9. Create a Pandas data frame from the feed's entries."
      ]
    },
    {
      "cell_type": "code",
      "metadata": {
        "id": "jDPg4D7A6gdl",
        "colab_type": "code",
        "colab": {}
      },
      "source": [
        "import pandas as pd"
      ],
      "execution_count": 0,
      "outputs": []
    },
    {
      "cell_type": "code",
      "metadata": {
        "id": "L6neB1mc6gdn",
        "colab_type": "code",
        "outputId": "1afca744-07fb-425f-b234-ef470227bb38",
        "colab": {
          "base_uri": "https://localhost:8080/",
          "height": 294
        }
      },
      "source": [
        "df = pd.DataFrame(d.entries)\n",
        "df.head(2)"
      ],
      "execution_count": 0,
      "outputs": [
        {
          "output_type": "execute_result",
          "data": {
            "text/html": [
              "<div>\n",
              "<style scoped>\n",
              "    .dataframe tbody tr th:only-of-type {\n",
              "        vertical-align: middle;\n",
              "    }\n",
              "\n",
              "    .dataframe tbody tr th {\n",
              "        vertical-align: top;\n",
              "    }\n",
              "\n",
              "    .dataframe thead th {\n",
              "        text-align: right;\n",
              "    }\n",
              "</style>\n",
              "<table border=\"1\" class=\"dataframe\">\n",
              "  <thead>\n",
              "    <tr style=\"text-align: right;\">\n",
              "      <th></th>\n",
              "      <th>title</th>\n",
              "      <th>title_detail</th>\n",
              "      <th>links</th>\n",
              "      <th>link</th>\n",
              "      <th>comments</th>\n",
              "      <th>published</th>\n",
              "      <th>published_parsed</th>\n",
              "      <th>authors</th>\n",
              "      <th>author</th>\n",
              "      <th>author_detail</th>\n",
              "      <th>tags</th>\n",
              "      <th>id</th>\n",
              "      <th>guidislink</th>\n",
              "      <th>summary</th>\n",
              "      <th>summary_detail</th>\n",
              "      <th>content</th>\n",
              "      <th>wfw_commentrss</th>\n",
              "      <th>slash_comments</th>\n",
              "      <th>feedburner_origlink</th>\n",
              "    </tr>\n",
              "  </thead>\n",
              "  <tbody>\n",
              "    <tr>\n",
              "      <th>0</th>\n",
              "      <td>Four short links: 15 May 2020</td>\n",
              "      <td>{'type': 'text/plain', 'language': None, 'base...</td>\n",
              "      <td>[{'rel': 'alternate', 'type': 'text/html', 'hr...</td>\n",
              "      <td>http://feedproxy.google.com/~r/oreilly/radar/a...</td>\n",
              "      <td>https://www.oreilly.com/radar/four-short-links...</td>\n",
              "      <td>Fri, 15 May 2020 11:22:50 +0000</td>\n",
              "      <td>(2020, 5, 15, 11, 22, 50, 4, 136, 0)</td>\n",
              "      <td>[{'name': 'Nat Torkington'}]</td>\n",
              "      <td>Nat Torkington</td>\n",
              "      <td>{'name': 'Nat Torkington'}</td>\n",
              "      <td>[{'term': 'Four Short Links', 'scheme': None, ...</td>\n",
              "      <td>https://www.oreilly.com/radar/?p=12789</td>\n",
              "      <td>False</td>\n",
              "      <td>Favourite Developer-Efficiency Tips &amp;#8212; Be...</td>\n",
              "      <td>{'type': 'text/html', 'language': None, 'base'...</td>\n",
              "      <td>[{'type': 'text/html', 'language': None, 'base...</td>\n",
              "      <td>https://www.oreilly.com/radar/four-short-links...</td>\n",
              "      <td>0</td>\n",
              "      <td>https://www.oreilly.com/radar/four-short-links...</td>\n",
              "    </tr>\n",
              "    <tr>\n",
              "      <th>1</th>\n",
              "      <td>Practical Skills for The AI Product Manager</td>\n",
              "      <td>{'type': 'text/plain', 'language': None, 'base...</td>\n",
              "      <td>[{'rel': 'alternate', 'type': 'text/html', 'hr...</td>\n",
              "      <td>http://feedproxy.google.com/~r/oreilly/radar/a...</td>\n",
              "      <td>https://www.oreilly.com/radar/practical-skills...</td>\n",
              "      <td>Thu, 14 May 2020 12:40:45 +0000</td>\n",
              "      <td>(2020, 5, 14, 12, 40, 45, 3, 135, 0)</td>\n",
              "      <td>[{'name': 'Justin Norman, Peter Skomoroch and ...</td>\n",
              "      <td>Justin Norman, Peter Skomoroch and Mike Loukides</td>\n",
              "      <td>{'name': 'Justin Norman, Peter Skomoroch and M...</td>\n",
              "      <td>[{'term': 'AI &amp; ML', 'scheme': None, 'label': ...</td>\n",
              "      <td>https://www.oreilly.com/radar/?p=12786</td>\n",
              "      <td>False</td>\n",
              "      <td>In our previous article, What You Need to Know...</td>\n",
              "      <td>{'type': 'text/html', 'language': None, 'base'...</td>\n",
              "      <td>[{'type': 'text/html', 'language': None, 'base...</td>\n",
              "      <td>https://www.oreilly.com/radar/practical-skills...</td>\n",
              "      <td>0</td>\n",
              "      <td>https://www.oreilly.com/radar/practical-skills...</td>\n",
              "    </tr>\n",
              "  </tbody>\n",
              "</table>\n",
              "</div>"
            ],
            "text/plain": [
              "                                         title  ...                                feedburner_origlink\n",
              "0                Four short links: 15 May 2020  ...  https://www.oreilly.com/radar/four-short-links...\n",
              "1  Practical Skills for The AI Product Manager  ...  https://www.oreilly.com/radar/practical-skills...\n",
              "\n",
              "[2 rows x 19 columns]"
            ]
          },
          "metadata": {
            "tags": []
          },
          "execution_count": 66
        }
      ]
    },
    {
      "cell_type": "markdown",
      "metadata": {
        "id": "tA4Wc3TO6gdp",
        "colab_type": "text"
      },
      "source": [
        "### 10. Count the number of entries per author and sort them in descending order."
      ]
    },
    {
      "cell_type": "code",
      "metadata": {
        "id": "ZUyoIBKc6gdp",
        "colab_type": "code",
        "colab": {}
      },
      "source": [
        ""
      ],
      "execution_count": 0,
      "outputs": []
    },
    {
      "cell_type": "markdown",
      "metadata": {
        "id": "wRyqtJZL6gdt",
        "colab_type": "text"
      },
      "source": [
        "### 11. Add a new column to the data frame that contains the length (number of characters) of each entry title. Return a data frame that contains the title, author, and title length of each entry in descending order (longest title length at the top)."
      ]
    },
    {
      "cell_type": "code",
      "metadata": {
        "id": "YWyisPF56gdu",
        "colab_type": "code",
        "colab": {}
      },
      "source": [
        ""
      ],
      "execution_count": 0,
      "outputs": []
    },
    {
      "cell_type": "markdown",
      "metadata": {
        "id": "xp2zScDV6gdw",
        "colab_type": "text"
      },
      "source": [
        "### 12. Create a list of entry titles whose summary includes the phrase \"machine learning.\""
      ]
    },
    {
      "cell_type": "code",
      "metadata": {
        "id": "EMY2jUJg6gdx",
        "colab_type": "code",
        "colab": {}
      },
      "source": [
        ""
      ],
      "execution_count": 0,
      "outputs": []
    }
  ]
}